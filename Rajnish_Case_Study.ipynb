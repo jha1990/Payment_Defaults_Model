{
 "cells": [
  {
   "cell_type": "code",
   "execution_count": 1,
   "id": "2c2dc2d3",
   "metadata": {},
   "outputs": [],
   "source": [
    "import pandas as pd\n",
    "import numpy as np\n",
    "from datetime import datetime\n",
    "import matplotlib.pyplot as plt\n",
    "import seaborn as sns\n",
    "from sklearn.model_selection import train_test_split\n",
    "from sklearn.ensemble import GradientBoostingClassifier\n",
    "from sklearn.metrics import classification_report, confusion_matrix, roc_auc_score, roc_curve\n",
    "import matplotlib.pyplot as plt\n",
    "import warnings\n",
    "warnings.filterwarnings('ignore')"
   ]
  },
  {
   "cell_type": "markdown",
   "id": "aeec7af8",
   "metadata": {},
   "source": [
    "## Data Exploration and Cleaning:"
   ]
  },
  {
   "cell_type": "code",
   "execution_count": 2,
   "id": "217f91f3",
   "metadata": {},
   "outputs": [
    {
     "data": {
      "text/html": [
       "<div>\n",
       "<style scoped>\n",
       "    .dataframe tbody tr th:only-of-type {\n",
       "        vertical-align: middle;\n",
       "    }\n",
       "\n",
       "    .dataframe tbody tr th {\n",
       "        vertical-align: top;\n",
       "    }\n",
       "\n",
       "    .dataframe thead th {\n",
       "        text-align: right;\n",
       "    }\n",
       "</style>\n",
       "<table border=\"1\" class=\"dataframe\">\n",
       "  <thead>\n",
       "    <tr style=\"text-align: right;\">\n",
       "      <th></th>\n",
       "      <th>client_id</th>\n",
       "      <th>entity_type</th>\n",
       "      <th>entity_year_established</th>\n",
       "    </tr>\n",
       "  </thead>\n",
       "  <tbody>\n",
       "    <tr>\n",
       "      <th>0</th>\n",
       "      <td>786</td>\n",
       "      <td>Australian Private Company</td>\n",
       "      <td>2002</td>\n",
       "    </tr>\n",
       "    <tr>\n",
       "      <th>1</th>\n",
       "      <td>230</td>\n",
       "      <td>Australian Private Company</td>\n",
       "      <td>2008</td>\n",
       "    </tr>\n",
       "    <tr>\n",
       "      <th>2</th>\n",
       "      <td>282</td>\n",
       "      <td>Individual/Sole Trader</td>\n",
       "      <td>2001</td>\n",
       "    </tr>\n",
       "    <tr>\n",
       "      <th>3</th>\n",
       "      <td>447</td>\n",
       "      <td>Australian Private Company</td>\n",
       "      <td>2013</td>\n",
       "    </tr>\n",
       "    <tr>\n",
       "      <th>4</th>\n",
       "      <td>310</td>\n",
       "      <td>Individual/Sole Trader</td>\n",
       "      <td>2015</td>\n",
       "    </tr>\n",
       "  </tbody>\n",
       "</table>\n",
       "</div>"
      ],
      "text/plain": [
       "   client_id                 entity_type  entity_year_established\n",
       "0        786  Australian Private Company                     2002\n",
       "1        230  Australian Private Company                     2008\n",
       "2        282      Individual/Sole Trader                     2001\n",
       "3        447  Australian Private Company                     2013\n",
       "4        310      Individual/Sole Trader                     2015"
      ]
     },
     "execution_count": 2,
     "metadata": {},
     "output_type": "execute_result"
    }
   ],
   "source": [
    "# Load the CSV files\n",
    "clients_df = pd.read_csv('Desktop/Clients.csv')\n",
    "clients_df.head()"
   ]
  },
  {
   "cell_type": "code",
   "execution_count": 3,
   "id": "318d89e6",
   "metadata": {},
   "outputs": [
    {
     "data": {
      "text/html": [
       "<div>\n",
       "<style scoped>\n",
       "    .dataframe tbody tr th:only-of-type {\n",
       "        vertical-align: middle;\n",
       "    }\n",
       "\n",
       "    .dataframe tbody tr th {\n",
       "        vertical-align: top;\n",
       "    }\n",
       "\n",
       "    .dataframe thead th {\n",
       "        text-align: right;\n",
       "    }\n",
       "</style>\n",
       "<table border=\"1\" class=\"dataframe\">\n",
       "  <thead>\n",
       "    <tr style=\"text-align: right;\">\n",
       "      <th></th>\n",
       "      <th>transaction_id</th>\n",
       "      <th>contract_id</th>\n",
       "      <th>client_id</th>\n",
       "      <th>transaction_date</th>\n",
       "      <th>payment_amt</th>\n",
       "      <th>payment_code</th>\n",
       "    </tr>\n",
       "  </thead>\n",
       "  <tbody>\n",
       "    <tr>\n",
       "      <th>0</th>\n",
       "      <td>20175</td>\n",
       "      <td>927</td>\n",
       "      <td>1</td>\n",
       "      <td>1527012511</td>\n",
       "      <td>66.66</td>\n",
       "      <td>PAYMENT</td>\n",
       "    </tr>\n",
       "    <tr>\n",
       "      <th>1</th>\n",
       "      <td>8485</td>\n",
       "      <td>927</td>\n",
       "      <td>1</td>\n",
       "      <td>1511716095</td>\n",
       "      <td>66.66</td>\n",
       "      <td>PAYMENT</td>\n",
       "    </tr>\n",
       "    <tr>\n",
       "      <th>2</th>\n",
       "      <td>13778</td>\n",
       "      <td>927</td>\n",
       "      <td>1</td>\n",
       "      <td>1519319303</td>\n",
       "      <td>66.66</td>\n",
       "      <td>PAYMENT</td>\n",
       "    </tr>\n",
       "    <tr>\n",
       "      <th>3</th>\n",
       "      <td>22768</td>\n",
       "      <td>927</td>\n",
       "      <td>1</td>\n",
       "      <td>1529863724</td>\n",
       "      <td>66.66</td>\n",
       "      <td>PAYMENT</td>\n",
       "    </tr>\n",
       "    <tr>\n",
       "      <th>4</th>\n",
       "      <td>15698</td>\n",
       "      <td>927</td>\n",
       "      <td>1</td>\n",
       "      <td>1521738504</td>\n",
       "      <td>66.66</td>\n",
       "      <td>PAYMENT</td>\n",
       "    </tr>\n",
       "  </tbody>\n",
       "</table>\n",
       "</div>"
      ],
      "text/plain": [
       "   transaction_id  contract_id  client_id  transaction_date  payment_amt  \\\n",
       "0           20175          927          1        1527012511        66.66   \n",
       "1            8485          927          1        1511716095        66.66   \n",
       "2           13778          927          1        1519319303        66.66   \n",
       "3           22768          927          1        1529863724        66.66   \n",
       "4           15698          927          1        1521738504        66.66   \n",
       "\n",
       "  payment_code  \n",
       "0      PAYMENT  \n",
       "1      PAYMENT  \n",
       "2      PAYMENT  \n",
       "3      PAYMENT  \n",
       "4      PAYMENT  "
      ]
     },
     "execution_count": 3,
     "metadata": {},
     "output_type": "execute_result"
    }
   ],
   "source": [
    "payments_df = pd.read_csv('Desktop/Payments.csv')\n",
    "payments_df.head()"
   ]
  },
  {
   "cell_type": "code",
   "execution_count": 4,
   "id": "b11a7263",
   "metadata": {},
   "outputs": [],
   "source": [
    "# Convert the EPOCH format transaction_date to datetime\n",
    "payments_df['transaction_date'] = pd.to_datetime(payments_df['transaction_date'], unit='s')"
   ]
  },
  {
   "cell_type": "code",
   "execution_count": 5,
   "id": "31dea92f",
   "metadata": {},
   "outputs": [],
   "source": [
    "# Check for missing values in both datasets\n",
    "clients_missing = clients_df.isnull().sum()\n",
    "payments_missing = payments_df.isnull().sum()"
   ]
  },
  {
   "cell_type": "code",
   "execution_count": 6,
   "id": "6f08da36",
   "metadata": {},
   "outputs": [
    {
     "data": {
      "text/html": [
       "<div>\n",
       "<style scoped>\n",
       "    .dataframe tbody tr th:only-of-type {\n",
       "        vertical-align: middle;\n",
       "    }\n",
       "\n",
       "    .dataframe tbody tr th {\n",
       "        vertical-align: top;\n",
       "    }\n",
       "\n",
       "    .dataframe thead th {\n",
       "        text-align: right;\n",
       "    }\n",
       "</style>\n",
       "<table border=\"1\" class=\"dataframe\">\n",
       "  <thead>\n",
       "    <tr style=\"text-align: right;\">\n",
       "      <th></th>\n",
       "      <th>client_id</th>\n",
       "      <th>entity_type</th>\n",
       "      <th>entity_year_established</th>\n",
       "    </tr>\n",
       "  </thead>\n",
       "  <tbody>\n",
       "    <tr>\n",
       "      <th>0</th>\n",
       "      <td>786</td>\n",
       "      <td>Australian Private Company</td>\n",
       "      <td>2002</td>\n",
       "    </tr>\n",
       "    <tr>\n",
       "      <th>1</th>\n",
       "      <td>230</td>\n",
       "      <td>Australian Private Company</td>\n",
       "      <td>2008</td>\n",
       "    </tr>\n",
       "    <tr>\n",
       "      <th>2</th>\n",
       "      <td>282</td>\n",
       "      <td>Individual/Sole Trader</td>\n",
       "      <td>2001</td>\n",
       "    </tr>\n",
       "    <tr>\n",
       "      <th>3</th>\n",
       "      <td>447</td>\n",
       "      <td>Australian Private Company</td>\n",
       "      <td>2013</td>\n",
       "    </tr>\n",
       "    <tr>\n",
       "      <th>4</th>\n",
       "      <td>310</td>\n",
       "      <td>Individual/Sole Trader</td>\n",
       "      <td>2015</td>\n",
       "    </tr>\n",
       "  </tbody>\n",
       "</table>\n",
       "</div>"
      ],
      "text/plain": [
       "   client_id                 entity_type  entity_year_established\n",
       "0        786  Australian Private Company                     2002\n",
       "1        230  Australian Private Company                     2008\n",
       "2        282      Individual/Sole Trader                     2001\n",
       "3        447  Australian Private Company                     2013\n",
       "4        310      Individual/Sole Trader                     2015"
      ]
     },
     "execution_count": 6,
     "metadata": {},
     "output_type": "execute_result"
    }
   ],
   "source": [
    "# Display the first few rows of each dataframe\n",
    "clients_df.head()"
   ]
  },
  {
   "cell_type": "code",
   "execution_count": 7,
   "id": "2b75ecb2",
   "metadata": {},
   "outputs": [
    {
     "data": {
      "text/html": [
       "<div>\n",
       "<style scoped>\n",
       "    .dataframe tbody tr th:only-of-type {\n",
       "        vertical-align: middle;\n",
       "    }\n",
       "\n",
       "    .dataframe tbody tr th {\n",
       "        vertical-align: top;\n",
       "    }\n",
       "\n",
       "    .dataframe thead th {\n",
       "        text-align: right;\n",
       "    }\n",
       "</style>\n",
       "<table border=\"1\" class=\"dataframe\">\n",
       "  <thead>\n",
       "    <tr style=\"text-align: right;\">\n",
       "      <th></th>\n",
       "      <th>transaction_id</th>\n",
       "      <th>contract_id</th>\n",
       "      <th>client_id</th>\n",
       "      <th>transaction_date</th>\n",
       "      <th>payment_amt</th>\n",
       "      <th>payment_code</th>\n",
       "    </tr>\n",
       "  </thead>\n",
       "  <tbody>\n",
       "    <tr>\n",
       "      <th>0</th>\n",
       "      <td>20175</td>\n",
       "      <td>927</td>\n",
       "      <td>1</td>\n",
       "      <td>2018-05-22 18:08:31</td>\n",
       "      <td>66.66</td>\n",
       "      <td>PAYMENT</td>\n",
       "    </tr>\n",
       "    <tr>\n",
       "      <th>1</th>\n",
       "      <td>8485</td>\n",
       "      <td>927</td>\n",
       "      <td>1</td>\n",
       "      <td>2017-11-26 17:08:15</td>\n",
       "      <td>66.66</td>\n",
       "      <td>PAYMENT</td>\n",
       "    </tr>\n",
       "    <tr>\n",
       "      <th>2</th>\n",
       "      <td>13778</td>\n",
       "      <td>927</td>\n",
       "      <td>1</td>\n",
       "      <td>2018-02-22 17:08:23</td>\n",
       "      <td>66.66</td>\n",
       "      <td>PAYMENT</td>\n",
       "    </tr>\n",
       "    <tr>\n",
       "      <th>3</th>\n",
       "      <td>22768</td>\n",
       "      <td>927</td>\n",
       "      <td>1</td>\n",
       "      <td>2018-06-24 18:08:44</td>\n",
       "      <td>66.66</td>\n",
       "      <td>PAYMENT</td>\n",
       "    </tr>\n",
       "    <tr>\n",
       "      <th>4</th>\n",
       "      <td>15698</td>\n",
       "      <td>927</td>\n",
       "      <td>1</td>\n",
       "      <td>2018-03-22 17:08:24</td>\n",
       "      <td>66.66</td>\n",
       "      <td>PAYMENT</td>\n",
       "    </tr>\n",
       "  </tbody>\n",
       "</table>\n",
       "</div>"
      ],
      "text/plain": [
       "   transaction_id  contract_id  client_id    transaction_date  payment_amt  \\\n",
       "0           20175          927          1 2018-05-22 18:08:31        66.66   \n",
       "1            8485          927          1 2017-11-26 17:08:15        66.66   \n",
       "2           13778          927          1 2018-02-22 17:08:23        66.66   \n",
       "3           22768          927          1 2018-06-24 18:08:44        66.66   \n",
       "4           15698          927          1 2018-03-22 17:08:24        66.66   \n",
       "\n",
       "  payment_code  \n",
       "0      PAYMENT  \n",
       "1      PAYMENT  \n",
       "2      PAYMENT  \n",
       "3      PAYMENT  \n",
       "4      PAYMENT  "
      ]
     },
     "execution_count": 7,
     "metadata": {},
     "output_type": "execute_result"
    }
   ],
   "source": [
    "payments_df.head()"
   ]
  },
  {
   "cell_type": "code",
   "execution_count": 8,
   "id": "f9ac592b",
   "metadata": {},
   "outputs": [
    {
     "data": {
      "text/plain": [
       "(1287, 3)"
      ]
     },
     "execution_count": 8,
     "metadata": {},
     "output_type": "execute_result"
    }
   ],
   "source": [
    "clients_df.shape"
   ]
  },
  {
   "cell_type": "code",
   "execution_count": 9,
   "id": "96e433df",
   "metadata": {},
   "outputs": [
    {
     "data": {
      "text/plain": [
       "(25559, 6)"
      ]
     },
     "execution_count": 9,
     "metadata": {},
     "output_type": "execute_result"
    }
   ],
   "source": [
    "payments_df.shape"
   ]
  },
  {
   "cell_type": "code",
   "execution_count": 10,
   "id": "81a819dd",
   "metadata": {},
   "outputs": [
    {
     "data": {
      "text/plain": [
       "transaction_id      0\n",
       "contract_id         0\n",
       "client_id           0\n",
       "transaction_date    0\n",
       "payment_amt         0\n",
       "payment_code        0\n",
       "dtype: int64"
      ]
     },
     "execution_count": 10,
     "metadata": {},
     "output_type": "execute_result"
    }
   ],
   "source": [
    "# Checking for any missing values for Payments dataset \n",
    "payments_df.isna().sum()"
   ]
  },
  {
   "cell_type": "code",
   "execution_count": 11,
   "id": "c8035645",
   "metadata": {},
   "outputs": [
    {
     "data": {
      "text/plain": [
       "client_id                  0\n",
       "entity_type                0\n",
       "entity_year_established    0\n",
       "dtype: int64"
      ]
     },
     "execution_count": 11,
     "metadata": {},
     "output_type": "execute_result"
    }
   ],
   "source": [
    "# Checking for any missing values for Clients dataset\n",
    "clients_df.isna().sum()"
   ]
  },
  {
   "cell_type": "markdown",
   "id": "77fa8ef7",
   "metadata": {},
   "source": [
    "## Data Analysis\n",
    "\n",
    "### Analyze the Distribution of Payment Amounts and Defaults"
   ]
  },
  {
   "cell_type": "code",
   "execution_count": 12,
   "id": "6b83b57f",
   "metadata": {},
   "outputs": [
    {
     "data": {
      "image/png": "[encoded data removed]",
      "text/plain": [
       "<Figure size 1000x500 with 1 Axes>"
      ]
     },
     "metadata": {},
     "output_type": "display_data"
    }
   ],
   "source": [
    "# Distribution of payment amounts\n",
    "plt.figure(figsize=(10, 5))\n",
    "plt.hist(payments_df['payment_amt'], bins=50, edgecolor='k')\n",
    "plt.title('Distribution of Payment Amounts')\n",
    "plt.xlabel('Payment Amount')\n",
    "plt.ylabel('Frequency')\n",
    "plt.show()"
   ]
  },
  {
   "cell_type": "code",
   "execution_count": 13,
   "id": "331b4b8d",
   "metadata": {},
   "outputs": [
    {
     "data": {
      "image/png": "[encoded data removed]",
      "text/plain": [
       "<Figure size 1000x500 with 1 Axes>"
      ]
     },
     "metadata": {},
     "output_type": "display_data"
    }
   ],
   "source": [
    "# Distribution of payment codes\n",
    "payment_code_counts = payments_df['payment_code'].value_counts()\n",
    "plt.figure(figsize=(10, 5))\n",
    "payment_code_counts.plot(kind='bar')\n",
    "plt.title('Distribution of Payment Codes')\n",
    "plt.xlabel('Payment Code')\n",
    "plt.ylabel('Count')\n",
    "plt.show()"
   ]
  },
  {
   "cell_type": "code",
   "execution_count": 14,
   "id": "4644e03c",
   "metadata": {},
   "outputs": [
    {
     "name": "stdout",
     "output_type": "stream",
     "text": [
      "Payment Code Counts:\n",
      "PAYMENT    23340\n",
      "DEFAULT     2219\n",
      "Name: payment_code, dtype: int64\n"
     ]
    }
   ],
   "source": [
    "print(\"Payment Code Counts:\")\n",
    "print(payment_code_counts)"
   ]
  },
  {
   "cell_type": "markdown",
   "id": "8fab7ec2",
   "metadata": {},
   "source": [
    "## Descriptive Statistics and Visualizations:"
   ]
  },
  {
   "cell_type": "markdown",
   "id": "1acc39db",
   "metadata": {},
   "source": [
    "### Explore Client Characteristics and Their Relationship with Payment Defaults:"
   ]
  },
  {
   "cell_type": "code",
   "execution_count": 15,
   "id": "cd14c0f4",
   "metadata": {},
   "outputs": [],
   "source": [
    "# Merge clients_df and payments_df on client_id\n",
    "merged_df = pd.merge(payments_df, clients_df, on='client_id')"
   ]
  },
  {
   "cell_type": "code",
   "execution_count": 16,
   "id": "2d85958d",
   "metadata": {},
   "outputs": [
    {
     "data": {
      "text/html": [
       "<div>\n",
       "<style scoped>\n",
       "    .dataframe tbody tr th:only-of-type {\n",
       "        vertical-align: middle;\n",
       "    }\n",
       "\n",
       "    .dataframe tbody tr th {\n",
       "        vertical-align: top;\n",
       "    }\n",
       "\n",
       "    .dataframe thead th {\n",
       "        text-align: right;\n",
       "    }\n",
       "</style>\n",
       "<table border=\"1\" class=\"dataframe\">\n",
       "  <thead>\n",
       "    <tr style=\"text-align: right;\">\n",
       "      <th></th>\n",
       "      <th>transaction_id</th>\n",
       "      <th>contract_id</th>\n",
       "      <th>client_id</th>\n",
       "      <th>transaction_date</th>\n",
       "      <th>payment_amt</th>\n",
       "      <th>payment_code</th>\n",
       "      <th>entity_type</th>\n",
       "      <th>entity_year_established</th>\n",
       "    </tr>\n",
       "  </thead>\n",
       "  <tbody>\n",
       "    <tr>\n",
       "      <th>0</th>\n",
       "      <td>20175</td>\n",
       "      <td>927</td>\n",
       "      <td>1</td>\n",
       "      <td>2018-05-22 18:08:31</td>\n",
       "      <td>66.66</td>\n",
       "      <td>PAYMENT</td>\n",
       "      <td>Other Partnership</td>\n",
       "      <td>2006</td>\n",
       "    </tr>\n",
       "    <tr>\n",
       "      <th>1</th>\n",
       "      <td>8485</td>\n",
       "      <td>927</td>\n",
       "      <td>1</td>\n",
       "      <td>2017-11-26 17:08:15</td>\n",
       "      <td>66.66</td>\n",
       "      <td>PAYMENT</td>\n",
       "      <td>Other Partnership</td>\n",
       "      <td>2006</td>\n",
       "    </tr>\n",
       "    <tr>\n",
       "      <th>2</th>\n",
       "      <td>13778</td>\n",
       "      <td>927</td>\n",
       "      <td>1</td>\n",
       "      <td>2018-02-22 17:08:23</td>\n",
       "      <td>66.66</td>\n",
       "      <td>PAYMENT</td>\n",
       "      <td>Other Partnership</td>\n",
       "      <td>2006</td>\n",
       "    </tr>\n",
       "    <tr>\n",
       "      <th>3</th>\n",
       "      <td>22768</td>\n",
       "      <td>927</td>\n",
       "      <td>1</td>\n",
       "      <td>2018-06-24 18:08:44</td>\n",
       "      <td>66.66</td>\n",
       "      <td>PAYMENT</td>\n",
       "      <td>Other Partnership</td>\n",
       "      <td>2006</td>\n",
       "    </tr>\n",
       "    <tr>\n",
       "      <th>4</th>\n",
       "      <td>15698</td>\n",
       "      <td>927</td>\n",
       "      <td>1</td>\n",
       "      <td>2018-03-22 17:08:24</td>\n",
       "      <td>66.66</td>\n",
       "      <td>PAYMENT</td>\n",
       "      <td>Other Partnership</td>\n",
       "      <td>2006</td>\n",
       "    </tr>\n",
       "  </tbody>\n",
       "</table>\n",
       "</div>"
      ],
      "text/plain": [
       "   transaction_id  contract_id  client_id    transaction_date  payment_amt  \\\n",
       "0           20175          927          1 2018-05-22 18:08:31        66.66   \n",
       "1            8485          927          1 2017-11-26 17:08:15        66.66   \n",
       "2           13778          927          1 2018-02-22 17:08:23        66.66   \n",
       "3           22768          927          1 2018-06-24 18:08:44        66.66   \n",
       "4           15698          927          1 2018-03-22 17:08:24        66.66   \n",
       "\n",
       "  payment_code        entity_type  entity_year_established  \n",
       "0      PAYMENT  Other Partnership                     2006  \n",
       "1      PAYMENT  Other Partnership                     2006  \n",
       "2      PAYMENT  Other Partnership                     2006  \n",
       "3      PAYMENT  Other Partnership                     2006  \n",
       "4      PAYMENT  Other Partnership                     2006  "
      ]
     },
     "execution_count": 16,
     "metadata": {},
     "output_type": "execute_result"
    }
   ],
   "source": [
    "merged_df.head(5)"
   ]
  },
  {
   "cell_type": "code",
   "execution_count": 17,
   "id": "ba3ae646",
   "metadata": {},
   "outputs": [
    {
     "data": {
      "text/html": [
       "<div>\n",
       "<style scoped>\n",
       "    .dataframe tbody tr th:only-of-type {\n",
       "        vertical-align: middle;\n",
       "    }\n",
       "\n",
       "    .dataframe tbody tr th {\n",
       "        vertical-align: top;\n",
       "    }\n",
       "\n",
       "    .dataframe thead th {\n",
       "        text-align: right;\n",
       "    }\n",
       "</style>\n",
       "<table border=\"1\" class=\"dataframe\">\n",
       "  <thead>\n",
       "    <tr style=\"text-align: right;\">\n",
       "      <th></th>\n",
       "      <th>transaction_id</th>\n",
       "      <th>contract_id</th>\n",
       "      <th>client_id</th>\n",
       "      <th>transaction_date</th>\n",
       "      <th>payment_amt</th>\n",
       "      <th>payment_code</th>\n",
       "      <th>entity_type</th>\n",
       "      <th>entity_year_established</th>\n",
       "    </tr>\n",
       "  </thead>\n",
       "  <tbody>\n",
       "    <tr>\n",
       "      <th>25849</th>\n",
       "      <td>25075</td>\n",
       "      <td>1603</td>\n",
       "      <td>1280</td>\n",
       "      <td>2018-07-19 18:09:24</td>\n",
       "      <td>1666.68</td>\n",
       "      <td>PAYMENT</td>\n",
       "      <td>Australian Private Company</td>\n",
       "      <td>2016</td>\n",
       "    </tr>\n",
       "    <tr>\n",
       "      <th>25850</th>\n",
       "      <td>24711</td>\n",
       "      <td>1603</td>\n",
       "      <td>1280</td>\n",
       "      <td>2018-07-16 18:09:20</td>\n",
       "      <td>0.01</td>\n",
       "      <td>PAYMENT</td>\n",
       "      <td>Australian Private Company</td>\n",
       "      <td>2016</td>\n",
       "    </tr>\n",
       "    <tr>\n",
       "      <th>25851</th>\n",
       "      <td>25076</td>\n",
       "      <td>1603</td>\n",
       "      <td>1280</td>\n",
       "      <td>2018-07-19 18:09:24</td>\n",
       "      <td>64.99</td>\n",
       "      <td>PAYMENT</td>\n",
       "      <td>Australian Private Company</td>\n",
       "      <td>2016</td>\n",
       "    </tr>\n",
       "    <tr>\n",
       "      <th>25852</th>\n",
       "      <td>25132</td>\n",
       "      <td>1627</td>\n",
       "      <td>1281</td>\n",
       "      <td>2018-07-22 18:08:06</td>\n",
       "      <td>0.01</td>\n",
       "      <td>PAYMENT</td>\n",
       "      <td>Australian Private Company</td>\n",
       "      <td>2012</td>\n",
       "    </tr>\n",
       "    <tr>\n",
       "      <th>25853</th>\n",
       "      <td>25131</td>\n",
       "      <td>1627</td>\n",
       "      <td>1281</td>\n",
       "      <td>2018-07-22 18:08:06</td>\n",
       "      <td>20000.05</td>\n",
       "      <td>PAYMENT</td>\n",
       "      <td>Australian Private Company</td>\n",
       "      <td>2012</td>\n",
       "    </tr>\n",
       "  </tbody>\n",
       "</table>\n",
       "</div>"
      ],
      "text/plain": [
       "       transaction_id  contract_id  client_id    transaction_date  \\\n",
       "25849           25075         1603       1280 2018-07-19 18:09:24   \n",
       "25850           24711         1603       1280 2018-07-16 18:09:20   \n",
       "25851           25076         1603       1280 2018-07-19 18:09:24   \n",
       "25852           25132         1627       1281 2018-07-22 18:08:06   \n",
       "25853           25131         1627       1281 2018-07-22 18:08:06   \n",
       "\n",
       "       payment_amt payment_code                 entity_type  \\\n",
       "25849      1666.68      PAYMENT  Australian Private Company   \n",
       "25850         0.01      PAYMENT  Australian Private Company   \n",
       "25851        64.99      PAYMENT  Australian Private Company   \n",
       "25852         0.01      PAYMENT  Australian Private Company   \n",
       "25853     20000.05      PAYMENT  Australian Private Company   \n",
       "\n",
       "       entity_year_established  \n",
       "25849                     2016  \n",
       "25850                     2016  \n",
       "25851                     2016  \n",
       "25852                     2012  \n",
       "25853                     2012  "
      ]
     },
     "execution_count": 17,
     "metadata": {},
     "output_type": "execute_result"
    }
   ],
   "source": [
    "merged_df.tail(5)"
   ]
  },
  {
   "cell_type": "code",
   "execution_count": 18,
   "id": "8dc7aa4c",
   "metadata": {},
   "outputs": [
    {
     "data": {
      "text/html": [
       "<div>\n",
       "<style scoped>\n",
       "    .dataframe tbody tr th:only-of-type {\n",
       "        vertical-align: middle;\n",
       "    }\n",
       "\n",
       "    .dataframe tbody tr th {\n",
       "        vertical-align: top;\n",
       "    }\n",
       "\n",
       "    .dataframe thead th {\n",
       "        text-align: right;\n",
       "    }\n",
       "</style>\n",
       "<table border=\"1\" class=\"dataframe\">\n",
       "  <thead>\n",
       "    <tr style=\"text-align: right;\">\n",
       "      <th></th>\n",
       "      <th>transaction_id</th>\n",
       "      <th>contract_id</th>\n",
       "      <th>client_id</th>\n",
       "      <th>payment_amt</th>\n",
       "      <th>entity_year_established</th>\n",
       "    </tr>\n",
       "  </thead>\n",
       "  <tbody>\n",
       "    <tr>\n",
       "      <th>count</th>\n",
       "      <td>25854.000000</td>\n",
       "      <td>25854.000000</td>\n",
       "      <td>25854.000000</td>\n",
       "      <td>25854.000000</td>\n",
       "      <td>25854.000000</td>\n",
       "    </tr>\n",
       "    <tr>\n",
       "      <th>mean</th>\n",
       "      <td>12781.997138</td>\n",
       "      <td>758.568384</td>\n",
       "      <td>602.831477</td>\n",
       "      <td>1225.552848</td>\n",
       "      <td>2009.150576</td>\n",
       "    </tr>\n",
       "    <tr>\n",
       "      <th>std</th>\n",
       "      <td>7383.715669</td>\n",
       "      <td>352.121377</td>\n",
       "      <td>343.589521</td>\n",
       "      <td>4343.666629</td>\n",
       "      <td>5.616094</td>\n",
       "    </tr>\n",
       "    <tr>\n",
       "      <th>min</th>\n",
       "      <td>1.000000</td>\n",
       "      <td>1.000000</td>\n",
       "      <td>1.000000</td>\n",
       "      <td>-136.660000</td>\n",
       "      <td>1999.000000</td>\n",
       "    </tr>\n",
       "    <tr>\n",
       "      <th>25%</th>\n",
       "      <td>6388.250000</td>\n",
       "      <td>510.000000</td>\n",
       "      <td>309.000000</td>\n",
       "      <td>93.330000</td>\n",
       "      <td>2005.000000</td>\n",
       "    </tr>\n",
       "    <tr>\n",
       "      <th>50%</th>\n",
       "      <td>12782.500000</td>\n",
       "      <td>730.000000</td>\n",
       "      <td>591.000000</td>\n",
       "      <td>266.660000</td>\n",
       "      <td>2011.000000</td>\n",
       "    </tr>\n",
       "    <tr>\n",
       "      <th>75%</th>\n",
       "      <td>19181.750000</td>\n",
       "      <td>992.000000</td>\n",
       "      <td>891.000000</td>\n",
       "      <td>833.330000</td>\n",
       "      <td>2014.000000</td>\n",
       "    </tr>\n",
       "    <tr>\n",
       "      <th>max</th>\n",
       "      <td>25559.000000</td>\n",
       "      <td>1643.000000</td>\n",
       "      <td>1281.000000</td>\n",
       "      <td>200000.050000</td>\n",
       "      <td>2018.000000</td>\n",
       "    </tr>\n",
       "  </tbody>\n",
       "</table>\n",
       "</div>"
      ],
      "text/plain": [
       "       transaction_id   contract_id     client_id    payment_amt  \\\n",
       "count    25854.000000  25854.000000  25854.000000   25854.000000   \n",
       "mean     12781.997138    758.568384    602.831477    1225.552848   \n",
       "std       7383.715669    352.121377    343.589521    4343.666629   \n",
       "min          1.000000      1.000000      1.000000    -136.660000   \n",
       "25%       6388.250000    510.000000    309.000000      93.330000   \n",
       "50%      12782.500000    730.000000    591.000000     266.660000   \n",
       "75%      19181.750000    992.000000    891.000000     833.330000   \n",
       "max      25559.000000   1643.000000   1281.000000  200000.050000   \n",
       "\n",
       "       entity_year_established  \n",
       "count             25854.000000  \n",
       "mean               2009.150576  \n",
       "std                   5.616094  \n",
       "min                1999.000000  \n",
       "25%                2005.000000  \n",
       "50%                2011.000000  \n",
       "75%                2014.000000  \n",
       "max                2018.000000  "
      ]
     },
     "execution_count": 18,
     "metadata": {},
     "output_type": "execute_result"
    }
   ],
   "source": [
    "merged_df.describe()"
   ]
  },
  {
   "cell_type": "code",
   "execution_count": 19,
   "id": "d38abe7c",
   "metadata": {},
   "outputs": [
    {
     "data": {
      "text/html": [
       "<div>\n",
       "<style scoped>\n",
       "    .dataframe tbody tr th:only-of-type {\n",
       "        vertical-align: middle;\n",
       "    }\n",
       "\n",
       "    .dataframe tbody tr th {\n",
       "        vertical-align: top;\n",
       "    }\n",
       "\n",
       "    .dataframe thead th {\n",
       "        text-align: right;\n",
       "    }\n",
       "</style>\n",
       "<table border=\"1\" class=\"dataframe\">\n",
       "  <thead>\n",
       "    <tr style=\"text-align: right;\">\n",
       "      <th></th>\n",
       "      <th>transaction_id</th>\n",
       "      <th>contract_id</th>\n",
       "      <th>client_id</th>\n",
       "      <th>payment_amt</th>\n",
       "      <th>entity_year_established</th>\n",
       "    </tr>\n",
       "  </thead>\n",
       "  <tbody>\n",
       "    <tr>\n",
       "      <th>transaction_id</th>\n",
       "      <td>1.000000</td>\n",
       "      <td>0.703941</td>\n",
       "      <td>0.110636</td>\n",
       "      <td>0.079157</td>\n",
       "      <td>0.009555</td>\n",
       "    </tr>\n",
       "    <tr>\n",
       "      <th>contract_id</th>\n",
       "      <td>0.703941</td>\n",
       "      <td>1.000000</td>\n",
       "      <td>0.152465</td>\n",
       "      <td>0.220913</td>\n",
       "      <td>0.023018</td>\n",
       "    </tr>\n",
       "    <tr>\n",
       "      <th>client_id</th>\n",
       "      <td>0.110636</td>\n",
       "      <td>0.152465</td>\n",
       "      <td>1.000000</td>\n",
       "      <td>0.057585</td>\n",
       "      <td>0.056237</td>\n",
       "    </tr>\n",
       "    <tr>\n",
       "      <th>payment_amt</th>\n",
       "      <td>0.079157</td>\n",
       "      <td>0.220913</td>\n",
       "      <td>0.057585</td>\n",
       "      <td>1.000000</td>\n",
       "      <td>-0.022515</td>\n",
       "    </tr>\n",
       "    <tr>\n",
       "      <th>entity_year_established</th>\n",
       "      <td>0.009555</td>\n",
       "      <td>0.023018</td>\n",
       "      <td>0.056237</td>\n",
       "      <td>-0.022515</td>\n",
       "      <td>1.000000</td>\n",
       "    </tr>\n",
       "  </tbody>\n",
       "</table>\n",
       "</div>"
      ],
      "text/plain": [
       "                         transaction_id  contract_id  client_id  payment_amt  \\\n",
       "transaction_id                 1.000000     0.703941   0.110636     0.079157   \n",
       "contract_id                    0.703941     1.000000   0.152465     0.220913   \n",
       "client_id                      0.110636     0.152465   1.000000     0.057585   \n",
       "payment_amt                    0.079157     0.220913   0.057585     1.000000   \n",
       "entity_year_established        0.009555     0.023018   0.056237    -0.022515   \n",
       "\n",
       "                         entity_year_established  \n",
       "transaction_id                          0.009555  \n",
       "contract_id                             0.023018  \n",
       "client_id                               0.056237  \n",
       "payment_amt                            -0.022515  \n",
       "entity_year_established                 1.000000  "
      ]
     },
     "execution_count": 19,
     "metadata": {},
     "output_type": "execute_result"
    }
   ],
   "source": [
    "merged_df.corr()"
   ]
  },
  {
   "cell_type": "code",
   "execution_count": 20,
   "id": "1781bd04",
   "metadata": {},
   "outputs": [
    {
     "data": {
      "text/plain": [
       "transaction_id             0\n",
       "contract_id                0\n",
       "client_id                  0\n",
       "transaction_date           0\n",
       "payment_amt                0\n",
       "payment_code               0\n",
       "entity_type                0\n",
       "entity_year_established    0\n",
       "dtype: int64"
      ]
     },
     "execution_count": 20,
     "metadata": {},
     "output_type": "execute_result"
    }
   ],
   "source": [
    "# Checking if there are any missing values\n",
    "merged_df.isna().sum()"
   ]
  },
  {
   "cell_type": "code",
   "execution_count": 21,
   "id": "9ae77101",
   "metadata": {},
   "outputs": [],
   "source": [
    "# Distribution of entity types\n",
    "entity_type_counts = merged_df['entity_type'].value_counts()"
   ]
  },
  {
   "cell_type": "code",
   "execution_count": 22,
   "id": "2f589088",
   "metadata": {},
   "outputs": [],
   "source": [
    "# Calculate default rates for each entity type\n",
    "default_rates = merged_df.groupby('entity_type')['payment_code'].apply(lambda x: (x == 'DEFAULT').mean())"
   ]
  },
  {
   "cell_type": "code",
   "execution_count": 23,
   "id": "cdd6f240",
   "metadata": {},
   "outputs": [
    {
     "data": {
      "image/png": "[encoded data removed]",
      "text/plain": [
       "<Figure size 1000x500 with 1 Axes>"
      ]
     },
     "metadata": {},
     "output_type": "display_data"
    }
   ],
   "source": [
    "plt.figure(figsize=(10, 5))\n",
    "entity_type_counts.plot(kind='bar')\n",
    "plt.title('Distribution of Entity Types')\n",
    "plt.xlabel('Entity Type')\n",
    "plt.ylabel('Count')\n",
    "plt.show()"
   ]
  },
  {
   "cell_type": "code",
   "execution_count": 24,
   "id": "d94e1a62",
   "metadata": {},
   "outputs": [
    {
     "data": {
      "image/png": "[encoded data removed]",
      "text/plain": [
       "<Figure size 1000x500 with 1 Axes>"
      ]
     },
     "metadata": {},
     "output_type": "display_data"
    }
   ],
   "source": [
    "plt.figure(figsize=(10, 5))\n",
    "default_rates.plot(kind='bar')\n",
    "plt.title('Default Rates by Entity Type')\n",
    "plt.xlabel('Entity Type')\n",
    "plt.ylabel('Default Rate')\n",
    "plt.show()"
   ]
  },
  {
   "cell_type": "code",
   "execution_count": 25,
   "id": "03f15706",
   "metadata": {},
   "outputs": [
    {
     "name": "stdout",
     "output_type": "stream",
     "text": [
      "Entity Type Counts:\n",
      "Australian Private Company        15058\n",
      "Individual/Sole Trader             9418\n",
      "Family Partnership                  736\n",
      "Discretionary Trading Trust         187\n",
      "Other Partnership                   135\n",
      "Australian Public Company           128\n",
      "Discretionary Investment Trust      124\n",
      "Fixed Unit Trust                     32\n",
      "Hybrid Trust                         32\n",
      "Australian Proprietary Company        4\n",
      "Name: entity_type, dtype: int64\n"
     ]
    }
   ],
   "source": [
    "print(\"Entity Type Counts:\")\n",
    "print(entity_type_counts)"
   ]
  },
  {
   "cell_type": "code",
   "execution_count": 26,
   "id": "d7894af2",
   "metadata": {},
   "outputs": [
    {
     "name": "stdout",
     "output_type": "stream",
     "text": [
      "Default Rates by Entity Type:\n",
      "entity_type\n",
      "Australian Private Company        0.081950\n",
      "Australian Proprietary Company    0.000000\n",
      "Australian Public Company         0.125000\n",
      "Discretionary Investment Trust    0.185484\n",
      "Discretionary Trading Trust       0.112299\n",
      "Family Partnership                0.044837\n",
      "Fixed Unit Trust                  0.000000\n",
      "Hybrid Trust                      0.062500\n",
      "Individual/Sole Trader            0.095668\n",
      "Other Partnership                 0.044444\n",
      "Name: payment_code, dtype: float64\n"
     ]
    }
   ],
   "source": [
    "print(\"Default Rates by Entity Type:\")\n",
    "print(default_rates)"
   ]
  },
  {
   "cell_type": "markdown",
   "id": "8b5983ec",
   "metadata": {},
   "source": [
    "## Calculate Business Age and Analyze Defaults:"
   ]
  },
  {
   "cell_type": "code",
   "execution_count": 27,
   "id": "9bc877bb",
   "metadata": {},
   "outputs": [],
   "source": [
    "# Calculate the current year\n",
    "current_year = datetime.now().year"
   ]
  },
  {
   "cell_type": "code",
   "execution_count": 28,
   "id": "f1a4a79b",
   "metadata": {},
   "outputs": [],
   "source": [
    "# Calculate the age of each business\n",
    "merged_df['business_age'] = current_year - merged_df['entity_year_established']"
   ]
  },
  {
   "cell_type": "code",
   "execution_count": 29,
   "id": "801a1f3a",
   "metadata": {},
   "outputs": [
    {
     "data": {
      "image/png": "[encoded data removed]",
      "text/plain": [
       "<Figure size 1000x500 with 1 Axes>"
      ]
     },
     "metadata": {},
     "output_type": "display_data"
    }
   ],
   "source": [
    "# Distribution of business ages\n",
    "plt.figure(figsize=(10, 5))\n",
    "plt.hist(merged_df['business_age'], bins=50, edgecolor='k')\n",
    "plt.title('Distribution of Business Ages')\n",
    "plt.xlabel('Business Age')\n",
    "plt.ylabel('Frequency')\n",
    "plt.show()"
   ]
  },
  {
   "cell_type": "code",
   "execution_count": 30,
   "id": "1e09e591",
   "metadata": {},
   "outputs": [],
   "source": [
    "# Calculate default rates by business age\n",
    "age_bins = pd.cut(merged_df['business_age'], bins=[0, 5, 10, 20, 30, 50, 100])\n",
    "default_rates_by_age = merged_df.groupby(age_bins)['payment_code'].apply(lambda x: (x == 'DEFAULT').mean())"
   ]
  },
  {
   "cell_type": "code",
   "execution_count": 31,
   "id": "3b222caf",
   "metadata": {},
   "outputs": [],
   "source": [
    "# Replace NaN values with zero in default rates\n",
    "default_rates_by_age = default_rates_by_age.fillna(0)"
   ]
  },
  {
   "cell_type": "code",
   "execution_count": 32,
   "id": "f19c4c95",
   "metadata": {},
   "outputs": [
    {
     "data": {
      "image/png": "[encoded data removed]",
      "text/plain": [
       "<Figure size 1000x500 with 1 Axes>"
      ]
     },
     "metadata": {},
     "output_type": "display_data"
    }
   ],
   "source": [
    "# Plot the default rates by business age\n",
    "plt.figure(figsize=(10, 5))\n",
    "default_rates_by_age.plot(kind='bar')\n",
    "plt.title('Default Rates by Business Age')\n",
    "plt.xlabel('Business Age')\n",
    "plt.ylabel('Default Rate')\n",
    "plt.show()"
   ]
  },
  {
   "cell_type": "code",
   "execution_count": 33,
   "id": "8227f41f",
   "metadata": {},
   "outputs": [
    {
     "name": "stdout",
     "output_type": "stream",
     "text": [
      "Default Rates by Business Age:\n",
      "business_age\n",
      "(0, 5]       0.000000\n",
      "(5, 10]      0.104715\n",
      "(10, 20]     0.083826\n",
      "(20, 30]     0.066667\n",
      "(30, 50]     0.000000\n",
      "(50, 100]    0.000000\n",
      "Name: payment_code, dtype: float64\n"
     ]
    }
   ],
   "source": [
    "print(\"Default Rates by Business Age:\")\n",
    "print(default_rates_by_age)"
   ]
  },
  {
   "cell_type": "markdown",
   "id": "a260044c",
   "metadata": {},
   "source": [
    "## Feature Engineering and Data Scaling:"
   ]
  },
  {
   "cell_type": "code",
   "execution_count": 34,
   "id": "07604835",
   "metadata": {},
   "outputs": [],
   "source": [
    "# Create features: total_payments and default_count\n",
    "# These features should help capture the client's payment behavior\n",
    "client_payment_stats = merged_df.groupby('client_id').agg(\n",
    "    total_payments=('payment_code', 'count'),\n",
    "    default_count=('payment_code', lambda x: (x == 'DEFAULT').sum())\n",
    ").reset_index()"
   ]
  },
  {
   "cell_type": "code",
   "execution_count": 35,
   "id": "ea5b733c",
   "metadata": {},
   "outputs": [],
   "source": [
    "# Merge features back into the main dataframe\n",
    "features_df = pd.merge(merged_df, client_payment_stats, on='client_id')"
   ]
  },
  {
   "cell_type": "code",
   "execution_count": 36,
   "id": "7eabd776",
   "metadata": {},
   "outputs": [],
   "source": [
    "# Select relevant columns for modeling\n",
    "# Focus on key attributes that could influence default rates\n",
    "features_df = features_df[['client_id', 'entity_type', 'business_age', 'payment_amt', 'total_payments', \n",
    "                           'default_count', 'payment_code']]"
   ]
  },
  {
   "cell_type": "code",
   "execution_count": 37,
   "id": "7ddeb678",
   "metadata": {},
   "outputs": [],
   "source": [
    "# Convert entity_type to numerical using one-hot encoding\n",
    "features_df = pd.get_dummies(features_df, columns=['entity_type'], drop_first=True)"
   ]
  },
  {
   "cell_type": "code",
   "execution_count": 38,
   "id": "66905ce6",
   "metadata": {},
   "outputs": [],
   "source": [
    "# Define the target variable\n",
    "features_df['is_default'] = features_df['payment_code'].apply(lambda x: 1 if x == 'DEFAULT' else 0)"
   ]
  },
  {
   "cell_type": "code",
   "execution_count": 39,
   "id": "665665d6",
   "metadata": {},
   "outputs": [],
   "source": [
    "# Drop the original payment_code column\n",
    "features_df.drop(columns=['payment_code'], inplace=True)"
   ]
  },
  {
   "cell_type": "code",
   "execution_count": 40,
   "id": "bb865730",
   "metadata": {},
   "outputs": [
    {
     "name": "stdout",
     "output_type": "stream",
     "text": [
      "Features Data:\n"
     ]
    },
    {
     "data": {
      "text/html": [
       "<div>\n",
       "<style scoped>\n",
       "    .dataframe tbody tr th:only-of-type {\n",
       "        vertical-align: middle;\n",
       "    }\n",
       "\n",
       "    .dataframe tbody tr th {\n",
       "        vertical-align: top;\n",
       "    }\n",
       "\n",
       "    .dataframe thead th {\n",
       "        text-align: right;\n",
       "    }\n",
       "</style>\n",
       "<table border=\"1\" class=\"dataframe\">\n",
       "  <thead>\n",
       "    <tr style=\"text-align: right;\">\n",
       "      <th></th>\n",
       "      <th>client_id</th>\n",
       "      <th>business_age</th>\n",
       "      <th>payment_amt</th>\n",
       "      <th>total_payments</th>\n",
       "      <th>default_count</th>\n",
       "      <th>entity_type_Australian Proprietary Company</th>\n",
       "      <th>entity_type_Australian Public Company</th>\n",
       "      <th>entity_type_Discretionary Investment Trust</th>\n",
       "      <th>entity_type_Discretionary Trading Trust</th>\n",
       "      <th>entity_type_Family Partnership</th>\n",
       "      <th>entity_type_Fixed Unit Trust</th>\n",
       "      <th>entity_type_Hybrid Trust</th>\n",
       "      <th>entity_type_Individual/Sole Trader</th>\n",
       "      <th>entity_type_Other Partnership</th>\n",
       "      <th>is_default</th>\n",
       "    </tr>\n",
       "  </thead>\n",
       "  <tbody>\n",
       "    <tr>\n",
       "      <th>0</th>\n",
       "      <td>1</td>\n",
       "      <td>18</td>\n",
       "      <td>66.66</td>\n",
       "      <td>18</td>\n",
       "      <td>0</td>\n",
       "      <td>0</td>\n",
       "      <td>0</td>\n",
       "      <td>0</td>\n",
       "      <td>0</td>\n",
       "      <td>0</td>\n",
       "      <td>0</td>\n",
       "      <td>0</td>\n",
       "      <td>0</td>\n",
       "      <td>1</td>\n",
       "      <td>0</td>\n",
       "    </tr>\n",
       "    <tr>\n",
       "      <th>1</th>\n",
       "      <td>1</td>\n",
       "      <td>18</td>\n",
       "      <td>66.66</td>\n",
       "      <td>18</td>\n",
       "      <td>0</td>\n",
       "      <td>0</td>\n",
       "      <td>0</td>\n",
       "      <td>0</td>\n",
       "      <td>0</td>\n",
       "      <td>0</td>\n",
       "      <td>0</td>\n",
       "      <td>0</td>\n",
       "      <td>0</td>\n",
       "      <td>1</td>\n",
       "      <td>0</td>\n",
       "    </tr>\n",
       "    <tr>\n",
       "      <th>2</th>\n",
       "      <td>1</td>\n",
       "      <td>18</td>\n",
       "      <td>66.66</td>\n",
       "      <td>18</td>\n",
       "      <td>0</td>\n",
       "      <td>0</td>\n",
       "      <td>0</td>\n",
       "      <td>0</td>\n",
       "      <td>0</td>\n",
       "      <td>0</td>\n",
       "      <td>0</td>\n",
       "      <td>0</td>\n",
       "      <td>0</td>\n",
       "      <td>1</td>\n",
       "      <td>0</td>\n",
       "    </tr>\n",
       "    <tr>\n",
       "      <th>3</th>\n",
       "      <td>1</td>\n",
       "      <td>18</td>\n",
       "      <td>66.66</td>\n",
       "      <td>18</td>\n",
       "      <td>0</td>\n",
       "      <td>0</td>\n",
       "      <td>0</td>\n",
       "      <td>0</td>\n",
       "      <td>0</td>\n",
       "      <td>0</td>\n",
       "      <td>0</td>\n",
       "      <td>0</td>\n",
       "      <td>0</td>\n",
       "      <td>1</td>\n",
       "      <td>0</td>\n",
       "    </tr>\n",
       "    <tr>\n",
       "      <th>4</th>\n",
       "      <td>1</td>\n",
       "      <td>18</td>\n",
       "      <td>66.66</td>\n",
       "      <td>18</td>\n",
       "      <td>0</td>\n",
       "      <td>0</td>\n",
       "      <td>0</td>\n",
       "      <td>0</td>\n",
       "      <td>0</td>\n",
       "      <td>0</td>\n",
       "      <td>0</td>\n",
       "      <td>0</td>\n",
       "      <td>0</td>\n",
       "      <td>1</td>\n",
       "      <td>0</td>\n",
       "    </tr>\n",
       "  </tbody>\n",
       "</table>\n",
       "</div>"
      ],
      "text/plain": [
       "   client_id  business_age  payment_amt  total_payments  default_count  \\\n",
       "0          1            18        66.66              18              0   \n",
       "1          1            18        66.66              18              0   \n",
       "2          1            18        66.66              18              0   \n",
       "3          1            18        66.66              18              0   \n",
       "4          1            18        66.66              18              0   \n",
       "\n",
       "   entity_type_Australian Proprietary Company  \\\n",
       "0                                           0   \n",
       "1                                           0   \n",
       "2                                           0   \n",
       "3                                           0   \n",
       "4                                           0   \n",
       "\n",
       "   entity_type_Australian Public Company  \\\n",
       "0                                      0   \n",
       "1                                      0   \n",
       "2                                      0   \n",
       "3                                      0   \n",
       "4                                      0   \n",
       "\n",
       "   entity_type_Discretionary Investment Trust  \\\n",
       "0                                           0   \n",
       "1                                           0   \n",
       "2                                           0   \n",
       "3                                           0   \n",
       "4                                           0   \n",
       "\n",
       "   entity_type_Discretionary Trading Trust  entity_type_Family Partnership  \\\n",
       "0                                        0                               0   \n",
       "1                                        0                               0   \n",
       "2                                        0                               0   \n",
       "3                                        0                               0   \n",
       "4                                        0                               0   \n",
       "\n",
       "   entity_type_Fixed Unit Trust  entity_type_Hybrid Trust  \\\n",
       "0                             0                         0   \n",
       "1                             0                         0   \n",
       "2                             0                         0   \n",
       "3                             0                         0   \n",
       "4                             0                         0   \n",
       "\n",
       "   entity_type_Individual/Sole Trader  entity_type_Other Partnership  \\\n",
       "0                                   0                              1   \n",
       "1                                   0                              1   \n",
       "2                                   0                              1   \n",
       "3                                   0                              1   \n",
       "4                                   0                              1   \n",
       "\n",
       "   is_default  \n",
       "0           0  \n",
       "1           0  \n",
       "2           0  \n",
       "3           0  \n",
       "4           0  "
      ]
     },
     "execution_count": 40,
     "metadata": {},
     "output_type": "execute_result"
    }
   ],
   "source": [
    "# Display the first few rows of the features dataframe\n",
    "print(\"Features Data:\")\n",
    "features_df.head()"
   ]
  },
  {
   "cell_type": "markdown",
   "id": "01455b67",
   "metadata": {},
   "source": [
    "## Model Building and Evaluation:"
   ]
  },
  {
   "cell_type": "code",
   "execution_count": 41,
   "id": "6e721b5c",
   "metadata": {},
   "outputs": [],
   "source": [
    "# Define feature matrix and target vector\n",
    "X = features_df.drop(columns=['client_id', 'is_default'])\n",
    "y = features_df['is_default']"
   ]
  },
  {
   "cell_type": "code",
   "execution_count": 42,
   "id": "fcdf59d8",
   "metadata": {},
   "outputs": [],
   "source": [
    "# Train-test split\n",
    "# Using a stratified split to ensure the target variable is evenly distributed\n",
    "X_train, X_test, y_train, y_test = train_test_split(X, y, test_size=0.25, random_state=42, stratify=y)"
   ]
  },
  {
   "cell_type": "code",
   "execution_count": 43,
   "id": "2ca95c08",
   "metadata": {},
   "outputs": [
    {
     "name": "stdout",
     "output_type": "stream",
     "text": [
      "Training Set Shapes:\n"
     ]
    },
    {
     "data": {
      "text/plain": [
       "(19390, 13)"
      ]
     },
     "execution_count": 43,
     "metadata": {},
     "output_type": "execute_result"
    }
   ],
   "source": [
    "print(\"Training Set Shapes:\")\n",
    "X_train.shape"
   ]
  },
  {
   "cell_type": "code",
   "execution_count": 44,
   "id": "a36e07c5",
   "metadata": {},
   "outputs": [
    {
     "name": "stdout",
     "output_type": "stream",
     "text": [
      "Testing Set Shapes:\n"
     ]
    }
   ],
   "source": [
    "print(\"Testing Set Shapes:\")"
   ]
  },
  {
   "cell_type": "code",
   "execution_count": 45,
   "id": "82f4d5b1",
   "metadata": {},
   "outputs": [
    {
     "data": {
      "text/plain": [
       "(6464, 13)"
      ]
     },
     "execution_count": 45,
     "metadata": {},
     "output_type": "execute_result"
    }
   ],
   "source": [
    "X_test.shape"
   ]
  },
  {
   "cell_type": "markdown",
   "id": "4b46fda8",
   "metadata": {},
   "source": [
    "## Handle Class Imbalance:"
   ]
  },
  {
   "cell_type": "code",
   "execution_count": 46,
   "id": "00b1de9c",
   "metadata": {},
   "outputs": [],
   "source": [
    "# Handle class imbalance with oversampling\n",
    "# This step ensures we have enough examples of the minority class\n",
    "majority_class = X_train[y_train == 0]\n",
    "minority_class = X_train[y_train == 1]\n",
    "minority_class_oversampled = minority_class.sample(len(majority_class), replace=True, random_state=42)\n",
    "X_train_resampled = pd.concat([majority_class, minority_class_oversampled])\n",
    "y_train_resampled = pd.concat([y_train[y_train == 0], y_train[y_train == 1].sample\n",
    "                               (len(majority_class), replace=True, random_state=42)])\n"
   ]
  },
  {
   "cell_type": "code",
   "execution_count": 47,
   "id": "043b91f0",
   "metadata": {},
   "outputs": [
    {
     "name": "stdout",
     "output_type": "stream",
     "text": [
      "Resampled Training Set Shapes:\n",
      "(35426, 13) (35426,)\n"
     ]
    }
   ],
   "source": [
    "print(\"Resampled Training Set Shapes:\")\n",
    "print(X_train_resampled.shape, y_train_resampled.shape)"
   ]
  },
  {
   "cell_type": "markdown",
   "id": "9d770dc9",
   "metadata": {},
   "source": [
    "## Train and Evaluate the Gradient Boosting Model:"
   ]
  },
  {
   "cell_type": "code",
   "execution_count": 48,
   "id": "db155512",
   "metadata": {},
   "outputs": [],
   "source": [
    "# Train Gradient Boosting model\n",
    "gb_model = GradientBoostingClassifier(random_state=42)"
   ]
  },
  {
   "cell_type": "code",
   "execution_count": 49,
   "id": "fb417acf",
   "metadata": {},
   "outputs": [
    {
     "data": {
      "text/html": [
       "<style>#sk-container-id-1 {color: black;background-color: white;}#sk-container-id-1 pre{padding: 0;}#sk-container-id-1 div.sk-toggleable {background-color: white;}#sk-container-id-1 label.sk-toggleable__label {cursor: pointer;display: block;width: 100%;margin-bottom: 0;padding: 0.3em;box-sizing: border-box;text-align: center;}#sk-container-id-1 label.sk-toggleable__label-arrow:before {content: \"▸\";float: left;margin-right: 0.25em;color: #696969;}#sk-container-id-1 label.sk-toggleable__label-arrow:hover:before {color: black;}#sk-container-id-1 div.sk-estimator:hover label.sk-toggleable__label-arrow:before {color: black;}#sk-container-id-1 div.sk-toggleable__content {max-height: 0;max-width: 0;overflow: hidden;text-align: left;background-color: #f0f8ff;}#sk-container-id-1 div.sk-toggleable__content pre {margin: 0.2em;color: black;border-radius: 0.25em;background-color: #f0f8ff;}#sk-container-id-1 input.sk-toggleable__control:checked~div.sk-toggleable__content {max-height: 200px;max-width: 100%;overflow: auto;}#sk-container-id-1 input.sk-toggleable__control:checked~label.sk-toggleable__label-arrow:before {content: \"▾\";}#sk-container-id-1 div.sk-estimator input.sk-toggleable__control:checked~label.sk-toggleable__label {background-color: #d4ebff;}#sk-container-id-1 div.sk-label input.sk-toggleable__control:checked~label.sk-toggleable__label {background-color: #d4ebff;}#sk-container-id-1 input.sk-hidden--visually {border: 0;clip: rect(1px 1px 1px 1px);clip: rect(1px, 1px, 1px, 1px);height: 1px;margin: -1px;overflow: hidden;padding: 0;position: absolute;width: 1px;}#sk-container-id-1 div.sk-estimator {font-family: monospace;background-color: #f0f8ff;border: 1px dotted black;border-radius: 0.25em;box-sizing: border-box;margin-bottom: 0.5em;}#sk-container-id-1 div.sk-estimator:hover {background-color: #d4ebff;}#sk-container-id-1 div.sk-parallel-item::after {content: \"\";width: 100%;border-bottom: 1px solid gray;flex-grow: 1;}#sk-container-id-1 div.sk-label:hover label.sk-toggleable__label {background-color: #d4ebff;}#sk-container-id-1 div.sk-serial::before {content: \"\";position: absolute;border-left: 1px solid gray;box-sizing: border-box;top: 0;bottom: 0;left: 50%;z-index: 0;}#sk-container-id-1 div.sk-serial {display: flex;flex-direction: column;align-items: center;background-color: white;padding-right: 0.2em;padding-left: 0.2em;position: relative;}#sk-container-id-1 div.sk-item {position: relative;z-index: 1;}#sk-container-id-1 div.sk-parallel {display: flex;align-items: stretch;justify-content: center;background-color: white;position: relative;}#sk-container-id-1 div.sk-item::before, #sk-container-id-1 div.sk-parallel-item::before {content: \"\";position: absolute;border-left: 1px solid gray;box-sizing: border-box;top: 0;bottom: 0;left: 50%;z-index: -1;}#sk-container-id-1 div.sk-parallel-item {display: flex;flex-direction: column;z-index: 1;position: relative;background-color: white;}#sk-container-id-1 div.sk-parallel-item:first-child::after {align-self: flex-end;width: 50%;}#sk-container-id-1 div.sk-parallel-item:last-child::after {align-self: flex-start;width: 50%;}#sk-container-id-1 div.sk-parallel-item:only-child::after {width: 0;}#sk-container-id-1 div.sk-dashed-wrapped {border: 1px dashed gray;margin: 0 0.4em 0.5em 0.4em;box-sizing: border-box;padding-bottom: 0.4em;background-color: white;}#sk-container-id-1 div.sk-label label {font-family: monospace;font-weight: bold;display: inline-block;line-height: 1.2em;}#sk-container-id-1 div.sk-label-container {text-align: center;}#sk-container-id-1 div.sk-container {/* jupyter's `normalize.less` sets `[hidden] { display: none; }` but bootstrap.min.css set `[hidden] { display: none !important; }` so we also need the `!important` here to be able to override the default hidden behavior on the sphinx rendered scikit-learn.org. See: https://github.com/scikit-learn/scikit-learn/issues/21755 */display: inline-block !important;position: relative;}#sk-container-id-1 div.sk-text-repr-fallback {display: none;}</style><div id=\"sk-container-id-1\" class=\"sk-top-container\"><div class=\"sk-text-repr-fallback\"><pre>GradientBoostingClassifier(random_state=42)</pre><b>In a Jupyter environment, please rerun this cell to show the HTML representation or trust the notebook. <br />On GitHub, the HTML representation is unable to render, please try loading this page with nbviewer.org.</b></div><div class=\"sk-container\" hidden><div class=\"sk-item\"><div class=\"sk-estimator sk-toggleable\"><input class=\"sk-toggleable__control sk-hidden--visually\" id=\"sk-estimator-id-1\" type=\"checkbox\" checked><label for=\"sk-estimator-id-1\" class=\"sk-toggleable__label sk-toggleable__label-arrow\">GradientBoostingClassifier</label><div class=\"sk-toggleable__content\"><pre>GradientBoostingClassifier(random_state=42)</pre></div></div></div></div></div>"
      ],
      "text/plain": [
       "GradientBoostingClassifier(random_state=42)"
      ]
     },
     "execution_count": 49,
     "metadata": {},
     "output_type": "execute_result"
    }
   ],
   "source": [
    "# Train the model on the resampled training data\n",
    "gb_model.fit(X_train_resampled, y_train_resampled)"
   ]
  },
  {
   "cell_type": "code",
   "execution_count": 50,
   "id": "6143ff2a",
   "metadata": {},
   "outputs": [],
   "source": [
    "# Predict on test data\n",
    "y_pred_gb = gb_model.predict(X_test)\n",
    "y_prob_gb = gb_model.predict_proba(X_test)[:, 1]"
   ]
  },
  {
   "cell_type": "code",
   "execution_count": 51,
   "id": "9a26f707",
   "metadata": {},
   "outputs": [
    {
     "name": "stdout",
     "output_type": "stream",
     "text": [
      "Model Accuracy: 74.72%\n"
     ]
    }
   ],
   "source": [
    "# Evaluate model accuracy\n",
    "accuracy_gb = gb_model.score(X_test, y_test)*100\n",
    "print(f\"Model Accuracy: {accuracy_gb:.2f}%\")"
   ]
  },
  {
   "cell_type": "code",
   "execution_count": 52,
   "id": "30c2d473",
   "metadata": {},
   "outputs": [],
   "source": [
    "# Evaluate the model's performance\n",
    "conf_matrix_gb = confusion_matrix(y_test, y_pred_gb)\n",
    "class_report_gb = classification_report(y_test, y_pred_gb)\n",
    "roc_auc_gb = roc_auc_score(y_test, y_prob_gb)"
   ]
  },
  {
   "cell_type": "code",
   "execution_count": 53,
   "id": "f64b5066",
   "metadata": {},
   "outputs": [
    {
     "name": "stdout",
     "output_type": "stream",
     "text": [
      "Confusion Matrix:\n"
     ]
    },
    {
     "data": {
      "text/plain": [
       "array([[4333, 1572],\n",
       "       [  62,  497]])"
      ]
     },
     "execution_count": 53,
     "metadata": {},
     "output_type": "execute_result"
    }
   ],
   "source": [
    "print(\"Confusion Matrix:\")\n",
    "conf_matrix_gb"
   ]
  },
  {
   "cell_type": "code",
   "execution_count": 54,
   "id": "a5666867",
   "metadata": {},
   "outputs": [
    {
     "name": "stdout",
     "output_type": "stream",
     "text": [
      "Classification Report:\n",
      "              precision    recall  f1-score   support\n",
      "\n",
      "           0       0.99      0.73      0.84      5905\n",
      "           1       0.24      0.89      0.38       559\n",
      "\n",
      "    accuracy                           0.75      6464\n",
      "   macro avg       0.61      0.81      0.61      6464\n",
      "weighted avg       0.92      0.75      0.80      6464\n",
      "\n"
     ]
    }
   ],
   "source": [
    "# Detailed classification report\n",
    "class_report_gb = classification_report(y_test, y_pred_gb)\n",
    "print(\"Classification Report:\")\n",
    "print(class_report_gb)"
   ]
  },
  {
   "cell_type": "code",
   "execution_count": 55,
   "id": "4aa7b14d",
   "metadata": {},
   "outputs": [
    {
     "data": {
      "image/png": "[encoded data removed]",
      "text/plain": [
       "<Figure size 800x600 with 2 Axes>"
      ]
     },
     "metadata": {},
     "output_type": "display_data"
    }
   ],
   "source": [
    "# Plot confusion matrix as heatmap\n",
    "conf_matrix_gb = confusion_matrix(y_test, y_pred_gb)\n",
    "plt.figure(figsize=(8, 6))\n",
    "sns.heatmap(conf_matrix_gb, annot=True, fmt='d', cmap='Blues', xticklabels=['Non-Default', 'Default'], yticklabels=['Non-Default', 'Default'])\n",
    "plt.title('Confusion Matrix: Predicted vs Actual')\n",
    "plt.xlabel('Predicted Labels')\n",
    "plt.ylabel('True Labels')\n",
    "plt.show()"
   ]
  },
  {
   "cell_type": "code",
   "execution_count": 56,
   "id": "eb3f45f4",
   "metadata": {},
   "outputs": [
    {
     "data": {
      "image/png": "[encoded data removed]",
      "text/plain": [
       "<Figure size 800x600 with 1 Axes>"
      ]
     },
     "metadata": {},
     "output_type": "display_data"
    }
   ],
   "source": [
    "# Plot ROC curve and calculate AUC\n",
    "fpr, tpr, _ = roc_curve(y_test, y_prob_gb)\n",
    "roc_auc = roc_auc_score(y_test, y_prob_gb)\n",
    "plt.figure(figsize=(8, 6))\n",
    "plt.plot(fpr, tpr, color='blue', lw=2, label=f'ROC curve (AUC = {roc_auc:.2f})')\n",
    "plt.plot([0, 1], [0, 1], color='grey', lw=2, linestyle='--')\n",
    "plt.xlim([0.0, 1.0])\n",
    "plt.ylim([0.0, 1.05])\n",
    "plt.xlabel('False Positive Rate')\n",
    "plt.ylabel('True Positive Rate')\n",
    "plt.title('ROC Curve')\n",
    "plt.legend(loc='lower right')\n",
    "plt.show()"
   ]
  },
  {
   "cell_type": "code",
   "execution_count": 57,
   "id": "02358bc8",
   "metadata": {},
   "outputs": [],
   "source": [
    "# Display feature importance in percentage\n",
    "feature_importance_data = {\n",
    "    'default_count': 0.910652,\n",
    "    'total_payments': 0.056918,\n",
    "    'payment_amt': 0.028305,\n",
    "    'business_age': 0.002006,\n",
    "    'entity_type_Discretionary Investment Trust': 0.001726,\n",
    "    'entity_type_Individual/Sole Trader': 0.000337,\n",
    "    'entity_type_Hybrid Trust': 0.000056,\n",
    "    'entity_type_Australian Proprietary Company': 0.000000,\n",
    "    'entity_type_Australian Public Company': 0.000000,\n",
    "    'entity_type_Discretionary Trading Trust': 0.000000,\n",
    "    'entity_type_Family Partnership': 0.000000,\n",
    "    'entity_type_Fixed Unit Trust': 0.000000,\n",
    "    'entity_type_Other Partnership': 0.000000\n",
    "}\n",
    "feature_importance = pd.Series(feature_importance_data).sort_values(ascending=False)"
   ]
  },
  {
   "cell_type": "code",
   "execution_count": 58,
   "id": "64d33f01",
   "metadata": {},
   "outputs": [
    {
     "name": "stdout",
     "output_type": "stream",
     "text": [
      "Feature Importance:\n",
      "• default_count: 91.07%\n",
      "• total_payments: 5.69%\n",
      "• payment_amt: 2.83%\n",
      "• business_age: 0.20%\n",
      "• entity_type_Discretionary Investment Trust: 0.17%\n",
      "• entity_type_Individual/Sole Trader: 0.03%\n",
      "• entity_type_Hybrid Trust: 0.01%\n",
      "• entity_type_Australian Proprietary Company: 0.00%\n",
      "• entity_type_Australian Public Company: 0.00%\n",
      "• entity_type_Discretionary Trading Trust: 0.00%\n",
      "• entity_type_Family Partnership: 0.00%\n",
      "• entity_type_Fixed Unit Trust: 0.00%\n",
      "• entity_type_Other Partnership: 0.00%\n"
     ]
    }
   ],
   "source": [
    "print(\"Feature Importance:\")\n",
    "for feature, importance in feature_importance.items():\n",
    "    print(f\"• {feature}: {importance * 100:.2f}%\")"
   ]
  },
  {
   "cell_type": "markdown",
   "id": "16c6c442",
   "metadata": {},
   "source": [
    "## Insights and Recommendations:"
   ]
  },
  {
   "cell_type": "code",
   "execution_count": 59,
   "id": "f3e89a6f",
   "metadata": {},
   "outputs": [
    {
     "name": "stdout",
     "output_type": "stream",
     "text": [
      "\n",
      "\n",
      "Recommendations:\n",
      "\n",
      "• Focus on clients with high default rates: Discretionary Investment Trust, \n",
      "  Australian Public Company, Individual/Sole Trader.\n",
      "• Monitor younger businesses (5-10 years old) more closely.\n",
      "• Consider developing risk mitigation strategies for high-risk clients.\n",
      "• Implement proactive monitoring and support systems based on model predictions.\n",
      "\n",
      "\n"
     ]
    }
   ],
   "source": [
    "# Provide actionable recommendations based on model insights\n",
    "recommendations = \"\"\"\n",
    "\n",
    "Recommendations:\n",
    "\n",
    "• Focus on clients with high default rates: Discretionary Investment Trust, \n",
    "  Australian Public Company, Individual/Sole Trader.\n",
    "• Monitor younger businesses (5-10 years old) more closely.\n",
    "• Consider developing risk mitigation strategies for high-risk clients.\n",
    "• Implement proactive monitoring and support systems based on model predictions.\n",
    "\n",
    "\"\"\"\n",
    "print(recommendations)"
   ]
  }
 ],
 "metadata": {
  "kernelspec": {
   "display_name": "Python 3 (ipykernel)",
   "language": "python",
   "name": "python3"
  },
  "language_info": {
   "codemirror_mode": {
    "name": "ipython",
    "version": 3
   },
   "file_extension": ".py",
   "mimetype": "text/x-python",
   "name": "python",
   "nbconvert_exporter": "python",
   "pygments_lexer": "ipython3",
   "version": "3.10.7"
  }
 },
 "nbformat": 4,
 "nbformat_minor": 5
}
